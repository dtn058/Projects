{
  "nbformat": 4,
  "nbformat_minor": 0,
  "metadata": {
    "colab": {
      "name": "Copy of Schedule and Tasks.ipynb",
      "version": "0.3.2",
      "provenance": [],
      "collapsed_sections": [],
      "include_colab_link": true
    },
    "kernelspec": {
      "name": "python3",
      "display_name": "Python 3"
    }
  },
  "cells": [
    {
      "cell_type": "markdown",
      "metadata": {
        "id": "view-in-github",
        "colab_type": "text"
      },
      "source": [
        "<a href=\"https://colab.research.google.com/github/dtn058/Projects/blob/master/Copy_of_Schedule_and_Tasks.ipynb\" target=\"_parent\"><img src=\"https://colab.research.google.com/assets/colab-badge.svg\" alt=\"Open In Colab\"/></a>"
      ]
    },
    {
      "metadata": {
        "id": "FQDspeS-NK7f",
        "colab_type": "text"
      },
      "cell_type": "markdown",
      "source": [
        "#Example [Dat, Justin,Tianheng]\n",
        "##Draft\n",
        "- Task you were assigned\n",
        "  - Person Assigned / Due Date\n",
        "  - Task Completion : haven’t started, just started, ongoing, near completion, completed\n",
        "  - Quick summary of what you have done so far\n",
        "\n",
        "\n",
        "##Code\n",
        "- Cleaning the code, adding comments\n",
        "  - Dat Nguyen. 4/23/2019\n",
        "  - Just Started.\n",
        "  - I’ve begun commenting the upper half of the code, but haven’t gotten around to cleaning it. Probably a couple more days and I’ll be done.\n",
        "\n",
        "\n"
      ]
    },
    {
      "metadata": {
        "id": "nLx9ubewTbLa",
        "colab_type": "text"
      },
      "cell_type": "markdown",
      "source": [
        "#Background Research\n",
        "##Draft\n",
        "\n",
        "##Code\n",
        "\n",
        "##Editing\n"
      ]
    },
    {
      "metadata": {
        "id": "enUv93xLTfSs",
        "colab_type": "text"
      },
      "cell_type": "markdown",
      "source": [
        "#Question & Hypothesis\n",
        "\n",
        "##Draft\n",
        "\n",
        "##Code\n",
        "\n",
        "##Editing\n"
      ]
    },
    {
      "metadata": {
        "id": "1sJgAdrNTi7K",
        "colab_type": "text"
      },
      "cell_type": "markdown",
      "source": [
        "#Ethical Considerations\n",
        "\n",
        "##Draft\n",
        "\n",
        "##Code\n",
        "\n",
        "##Editing\n"
      ]
    },
    {
      "metadata": {
        "id": "NIah6MPGTo0D",
        "colab_type": "text"
      },
      "cell_type": "markdown",
      "source": [
        "#Dataset\n",
        "\n",
        "##Draft\n",
        "\n",
        "##Code\n",
        "\n",
        "##Editing\n"
      ]
    },
    {
      "metadata": {
        "id": "ZbDr5vJpTr2X",
        "colab_type": "text"
      },
      "cell_type": "markdown",
      "source": [
        "#Data Wrangling\n",
        "\n",
        "##Draft\n",
        "\n",
        "##Code\n",
        "\n",
        "##Editing\n"
      ]
    },
    {
      "metadata": {
        "id": "KZyw4TvHTvTu",
        "colab_type": "text"
      },
      "cell_type": "markdown",
      "source": [
        "#Analysis\n",
        "\n",
        "##Draft\n",
        "\n",
        "##Code\n",
        "\n",
        "##Editing\n"
      ]
    },
    {
      "metadata": {
        "id": "S1rOtHuxTxjO",
        "colab_type": "text"
      },
      "cell_type": "markdown",
      "source": [
        "#Summarize Results\n",
        "\n",
        "##Draft\n",
        "\n",
        "##Code\n",
        "\n",
        "##Editing\n"
      ]
    },
    {
      "metadata": {
        "id": "_Ny4VJnJTzhf",
        "colab_type": "text"
      },
      "cell_type": "markdown",
      "source": [
        "#Conclusions\n",
        "\n",
        "##Draft\n",
        "\n",
        "##Code\n",
        "\n",
        "##Editing\n"
      ]
    }
  ]
}